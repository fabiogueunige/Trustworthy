{
 "cells": [
  {
   "cell_type": "markdown",
   "source": [
    "# Evasion exercise\n",
    "\n",
    "In this notebook, you will use SecML to implement adversarial attacks against a given neural network.\n",
    "[![Open In Colab](https://colab.research.google.com/assets/colab-badge.svg)](https://colab.research.google.com/github/zangobot/teaching_material/blob/HEAD/extra-EvasionExercise.ipynb)"
   ],
   "metadata": {
    "collapsed": false,
    "pycharm": {
     "name": "#%% md\n"
    }
   }
  },
  {
   "cell_type": "code",
   "execution_count": null,
   "outputs": [],
   "source": [
    "try:\n",
    "    import secml\n",
    "except ImportError:\n",
    "    %pip install secml[foolbox]"
   ],
   "metadata": {
    "collapsed": false,
    "pycharm": {
     "name": "#%%\n"
    }
   }
  },
  {
   "cell_type": "code",
   "execution_count": 2,
   "outputs": [],
   "source": [
    "import torch\n",
    "from torch import nn\n",
    "from torch import optim\n",
    "from secml.ml.classifiers import CClassifierPyTorch\n",
    "\n",
    "random_state = 999\n",
    "\n",
    "\n",
    "# creation of the multiclass classifier\n",
    "class Net(nn.Module):\n",
    "    def __init__(self, n_features, n_hidden, n_classes):\n",
    "        super(Net, self).__init__()\n",
    "        self.fc1 = nn.Linear(n_features, n_hidden)\n",
    "        self.fc2 = nn.Linear(n_hidden, n_classes)\n",
    "\n",
    "    def forward(self, x):\n",
    "        x = torch.relu(self.fc1(x))\n",
    "        x = self.fc2(x)\n",
    "        return x\n",
    "\n",
    "\n",
    "n_features = 2\n",
    "n_classes = 3\n",
    "\n",
    "# torch model creation\n",
    "net = Net(n_features=n_features, n_classes=n_classes, n_hidden=100)\n",
    "\n",
    "loss_function = nn.CrossEntropyLoss()\n",
    "optimizer = optim.SGD(net.parameters(), lr=0.001, momentum=0.9)\n",
    "\n",
    "# wrap torch model in CClassifierPyTorch class\n",
    "clf = CClassifierPyTorch(model=net,\n",
    "                         loss=loss_function,\n",
    "                         optimizer=optimizer,\n",
    "                         input_shape=(n_features,),\n",
    "                         random_state=random_state)"
   ],
   "metadata": {
    "collapsed": false,
    "pycharm": {
     "name": "#%%\n"
    }
   }
  },
  {
   "cell_type": "code",
   "execution_count": null,
   "outputs": [],
   "source": [
    "n_features = 2  # number of features\n",
    "n_samples = 1250  # number of samples\n",
    "centers = [[-2, 0], [2, -2], [2, 2]]  # centers of the clusters\n",
    "cluster_std = 0.8  # standard deviation of the clusters\n",
    "n_classes = len(centers)  # number of classes\n",
    "\n",
    "from secml.data.loader import CDLRandomBlobs\n",
    "\n",
    "dataset = ...  # TODO  instantiate a CDLRandomBlobs dataset as done in previous tutorials\n",
    "\n",
    "n_tr = 1000  # number of training set samples\n",
    "n_ts = 250  # number of test set samples\n",
    "\n",
    "# split in training and test\n",
    "from secml.data.splitter import CTrainTestSplit\n",
    "\n",
    "splitter = CTrainTestSplit(\n",
    "    train_size=n_tr, test_size=n_ts, random_state=random_state)\n",
    "tr, ts = splitter.split(dataset)\n",
    "\n",
    "# normalize the data\n",
    "from secml.ml.features import CNormalizerMinMax\n",
    "\n",
    "nmz = CNormalizerMinMax()\n",
    "tr.X = nmz.fit_transform(tr.X)\n",
    "ts.X = nmz.transform(ts.X)"
   ],
   "metadata": {
    "collapsed": false,
    "pycharm": {
     "name": "#%%\n"
    }
   }
  },
  {
   "cell_type": "code",
   "execution_count": null,
   "outputs": [],
   "source": [
    "clf = ...  # TODO fit the classifier using SecML\n",
    "\n",
    "y_pred = ...  # TODO  compute predictions on test set\n",
    "\n",
    "from secml.ml.peval.metrics import CMetricAccuracy\n",
    "\n",
    "accuracy = CMetricAccuracy().performance_score(y_true=ts.Y, y_pred=y_pred)\n",
    "print(\"Accuracy on test set: {:.2%}\".format(accuracy))\n"
   ],
   "metadata": {
    "collapsed": false,
    "pycharm": {
     "name": "#%%\n"
    }
   }
  },
  {
   "cell_type": "code",
   "execution_count": null,
   "outputs": [],
   "source": [
    "%matplotlib inline\n",
    "from secml.figure import CFigure\n",
    "\n",
    "fig = CFigure()\n",
    "fig.sp.plot_ds(tr)\n",
    "fig.sp.plot_decision_regions(clf, plot_background=True,\n",
    "                             n_grid_points=200)\n",
    "fig.show()"
   ],
   "metadata": {
    "collapsed": false,
    "pycharm": {
     "name": "#%%\n"
    }
   }
  },
  {
   "cell_type": "code",
   "execution_count": null,
   "outputs": [],
   "source": [
    "from secml.adv.attacks.evasion import CFoolboxPGDL2\n",
    "\n",
    "y_target = None\n",
    "index = 0\n",
    "x0, y0 = ts.X[index, :], ts.Y[index]\n",
    "\n",
    "# Attack parameters\n",
    "lb = 0  # lower bound of the input space\n",
    "ub = 1  # upper bound of the input space\n",
    "epsilon = 0.03  # perturbation budget\n",
    "abs_stepsize = 0.01  # stepsize of the attack\n",
    "steps = 100  # number of iterations\n",
    "\n",
    "pgd_attack =  # TODO: instantiate the CFoolboxPGDL2 to create an untargeted attack (y_target = None) against the trained clf\n",
    "\n",
    "y_adv_pred, _, adv_ds_pgd, _ =  # TODO: run the attack on the sample (x0, y0)\n",
    "\n",
    "print(\"Original x0 label: \", y0.item())\n",
    "print(\"Adversarial example label (PGD-L2): \", y_adv_pred.item())"
   ],
   "metadata": {
    "collapsed": false,
    "pycharm": {
     "name": "#%%\n"
    }
   }
  },
  {
   "cell_type": "markdown",
   "source": [
    "# Security Evaluations\n",
    "\n",
    "Testing one single perturbation budget is not enough to understand the robustness of your machine learning classifier.\n",
    "Hence, a fair analysis consists of a *security evaluation* of the model, by considering more perturbation budgets, and hence quantify the performance of the target systematically against stronger and stronger attacks.\n",
    "To do so, we first set the number of parameters we want to test (in this case, `epsilons`) and we compute attacks by varying the perturbation size."
   ],
   "metadata": {
    "collapsed": false,
    "pycharm": {
     "name": "#%% md\n"
    }
   }
  },
  {
   "cell_type": "code",
   "execution_count": null,
   "outputs": [],
   "source": [
    "epsilons = # create list of epsilons to use in the security evaluation\n",
    "robust_accuracies = []\n",
    "metric = CMetricAccuracy()\n",
    "X, y = ts.X[:30, :], ts.Y[:30]\n",
    "\n",
    "for eps in epsilons:\n",
    "    pgd_attack =  # TODO: instantiate the CFoolboxPGDL2 to create an untargeted attack (y_target = None) against the trained clf with the correct epsilon\n",
    "    y_adv_pred, _, _, _ =  # TODO: run the attack on the X, y set of samples\n",
    "    accuracy = metric.performance_score(y, y_adv_pred)\n",
    "    robust_accuracies.append(accuracy)"
   ],
   "metadata": {
    "collapsed": false,
    "pycharm": {
     "name": "#%%\n"
    }
   }
  },
  {
   "cell_type": "code",
   "execution_count": null,
   "outputs": [],
   "source": [
    "%matplotlib inline\n",
    "fig = CFigure(height=5, width=6)\n",
    "fig.sp.plot(epsilons, robust_accuracies)\n",
    "fig.show()"
   ],
   "metadata": {
    "collapsed": false,
    "pycharm": {
     "name": "#%%\n"
    }
   }
  }
 ],
 "metadata": {
  "kernelspec": {
   "display_name": "Python 3",
   "language": "python",
   "name": "python3"
  },
  "language_info": {
   "codemirror_mode": {
    "name": "ipython",
    "version": 2
   },
   "file_extension": ".py",
   "mimetype": "text/x-python",
   "name": "python",
   "nbconvert_exporter": "python",
   "pygments_lexer": "ipython2",
   "version": "2.7.6"
  }
 },
 "nbformat": 4,
 "nbformat_minor": 0
}