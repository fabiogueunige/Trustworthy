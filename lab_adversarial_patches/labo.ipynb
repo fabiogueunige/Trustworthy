{
 "cells": [
  {
   "cell_type": "code",
   "execution_count": 1,
   "metadata": {},
   "outputs": [],
   "source": [
    "from utils import set_all_seed\n",
    "np_gen, tr_gen = set_all_seed(42)"
   ]
  },
  {
   "cell_type": "markdown",
   "metadata": {
    "id": "1UTP2kChwGlH",
    "jp-MarkdownHeadingCollapsed": true
   },
   "source": [
    "# Train Image Classificator"
   ]
  },
  {
   "cell_type": "code",
   "execution_count": 12,
   "metadata": {
    "executionInfo": {
     "elapsed": 284,
     "status": "ok",
     "timestamp": 1695134140322,
     "user": {
      "displayName": "Danilo Franco",
      "userId": "05892866970485480074"
     },
     "user_tz": -120
    },
    "id": "0czzOxnJ2qev"
   },
   "outputs": [],
   "source": [
    "import os\n",
    "\n",
    "import torch as tr\n",
    "from torchvision import transforms, datasets\n",
    "\n",
    "from visualization import show_batch\n",
    "from torch_model_wrapper import TorchModelWrapper"
   ]
  },
  {
   "cell_type": "code",
   "execution_count": null,
   "metadata": {
    "colab": {
     "base_uri": "https://localhost:8080/",
     "height": 391
    },
    "executionInfo": {
     "elapsed": 5,
     "status": "error",
     "timestamp": 1695134209796,
     "user": {
      "displayName": "Danilo Franco",
      "userId": "05892866970485480074"
     },
     "user_tz": -120
    },
    "id": "f7XaPbtIwLuD",
    "outputId": "938acfd3-bceb-41b7-ca70-3e029afea17d"
   },
   "outputs": [],
   "source": [
    "# initialize train, validation, test data\n",
    "normalize = transforms.Normalize(mean = [0.485, 0.456, 0.406],\n",
    "                                 std = [0.229, 0.224, 0.225])\n",
    "\n",
    "data = datasets.ImageFolder(os.path.join('data','dataset'),\n",
    "                            transform = transforms.Compose([\n",
    "                                transforms.Resize(224),\n",
    "                                transforms.CenterCrop(224),\n",
    "                                transforms.ToTensor(),\n",
    "                                normalize,\n",
    "                            ]))\n",
    "num_classes = len(data.classes)\n",
    "num_samples = 10000\n",
    "subset_idxs = np_gen.choice(len(data), size=num_samples, replace=False)\n",
    "trn_idxs = subset_idxs[:int(num_samples*.4)]\n",
    "trn_split = tr.utils.data.Subset(data, trn_idxs)\n",
    "val_idxs = subset_idxs[int(num_samples*.4):int(num_samples*.7)]\n",
    "val_split = tr.utils.data.Subset(data, val_idxs)\n",
    "tst_idxs = subset_idxs[int(num_samples*.7):]\n",
    "tst_split = tr.utils.data.Subset(data, tst_idxs)\n",
    "\n",
    "len(data), len(trn_split), len(val_split), len(tst_split), num_classes"
   ]
  },
  {
   "cell_type": "code",
   "execution_count": null,
   "metadata": {},
   "outputs": [],
   "source": [
    "trn_loader = tr.utils.data.DataLoader(trn_split, batch_size=50, shuffle=True, generator=tr_gen)\n",
    "val_loader = tr.utils.data.DataLoader(val_split, batch_size=50, shuffle=True, generator=tr_gen)\n",
    "tst_loader = tr.utils.data.DataLoader(tst_split, batch_size=50, shuffle=True, generator=tr_gen)\n",
    "len(trn_loader), len(val_loader), len(tst_loader)"
   ]
  },
  {
   "cell_type": "code",
   "execution_count": null,
   "metadata": {},
   "outputs": [],
   "source": [
    "show_batch(next(iter(trn_loader))[0][:10], transforms=transforms.Compose([normalize]))"
   ]
  },
  {
   "cell_type": "code",
   "execution_count": null,
   "metadata": {
    "id": "nGuwhB9MvCf3"
   },
   "outputs": [],
   "source": [
    "# initialize model\n",
    "model_wrp = TorchModelWrapper(model_name='alexnet', num_classes=num_classes)\n",
    "model_wrp"
   ]
  },
  {
   "cell_type": "code",
   "execution_count": null,
   "metadata": {
    "id": "-EzmfP2-w51i"
   },
   "outputs": [],
   "source": [
    "# train model\n",
    "model_wrp.train_model(trn_loader, val_loader, tst_loader,\n",
    "                      num_epochs=3, device_idx=0, verbose=True)"
   ]
  },
  {
   "cell_type": "code",
   "execution_count": null,
   "metadata": {
    "id": "S5ZdrLzaz2ft"
   },
   "outputs": [],
   "source": [
    "# store model\n",
    "directory = os.path.join('data','models')\n",
    "os.makedirs(directory, exist_ok=True)\n",
    "model_wrp.store_model(directory)"
   ]
  },
  {
   "cell_type": "markdown",
   "metadata": {
    "id": "79jJGlZtw_qQ",
    "jp-MarkdownHeadingCollapsed": true
   },
   "source": [
    "# Train Adversarial Patches"
   ]
  },
  {
   "cell_type": "code",
   "execution_count": 1,
   "metadata": {},
   "outputs": [],
   "source": [
    "import gdown\n",
    "import zipfile\n",
    "\n",
    "gdown.download(id='1S5l8Bn_oTckD5iiMSX82m9pxJp0762Qc')\n",
    "with zipfile.ZipFile('data.zip', 'r') as zip_ref:\n",
    "    zip_ref.extractall('')"
   ]
  },
  {
   "cell_type": "code",
   "execution_count": null,
   "metadata": {},
   "outputs": [],
   "source": [
    "import os\n",
    "import matplotlib.pyplot as plt\n",
    "import numpy as np\n",
    "\n",
    "import torch as tr\n",
    "from torchvision import transforms, datasets\n",
    "\n",
    "from torch_model_wrapper import TorchModelWrapper\n",
    "from adversarial_patch import AdversarialPatch"
   ]
  },
  {
   "cell_type": "code",
   "execution_count": null,
   "metadata": {},
   "outputs": [],
   "source": [
    "# initialize train, validation, test data and exclude target class from patch training\n",
    "target_class = ['book','cellphone','mouse','pencilcase','ringbinder'][1]\n",
    "\n",
    "normalize = transforms.Normalize(mean=[0.485, 0.456, 0.406],\n",
    "                                 std=[0.229, 0.224, 0.225])\n",
    "\n",
    "data = datasets.ImageFolder(os.path.join('data','dataset'),\n",
    "                            transform = transforms.Compose([\n",
    "                                transforms.Resize(224),\n",
    "                                transforms.CenterCrop(224),\n",
    "                                transforms.ToTensor(),\n",
    "                                #normalize,\n",
    "                            ]))\n",
    "num_classes = len(data.classes)\n",
    "num_samples = 10000\n",
    "subset_idxs = np_gen.choice(len(data), size=num_samples, replace=False)\n",
    "val_idxs = [i for i in subset_idxs[int(num_samples*.4):int(num_samples*.7)] if data[i][1] != data.class_to_idx[target_class]]\n",
    "val_split = tr.utils.data.Subset(data, val_idxs)\n",
    "tst_idxs = subset_idxs[int(num_samples*.7):]\n",
    "tst_split = tr.utils.data.Subset(data, tst_idxs)\n",
    "\n",
    "len(val_split), len(tst_split), num_classes"
   ]
  },
  {
   "cell_type": "code",
   "execution_count": null,
   "metadata": {},
   "outputs": [],
   "source": [
    "val_loader = tr.utils.data.DataLoader(val_split, batch_size=50, shuffle=True, generator=tr_gen)\n",
    "tst_loader = tr.utils.data.DataLoader(tst_split, batch_size=50, shuffle=True, generator=tr_gen)\n",
    "\n",
    "len(val_loader), len(tst_loader)"
   ]
  },
  {
   "cell_type": "code",
   "execution_count": null,
   "metadata": {
    "id": "Kfgw9_9xx_Ul"
   },
   "outputs": [],
   "source": [
    "# load trained model\n",
    "model_wrp = TorchModelWrapper(model_name='alexnet', num_classes=num_classes)\n",
    "model_wrp.load_model(os.path.join('data','models'))\n",
    "model_wrp.set_model_gradients(False)"
   ]
  },
  {
   "cell_type": "code",
   "execution_count": null,
   "metadata": {},
   "outputs": [],
   "source": [
    "# initialize adversarial patch with active gradients\n",
    "patch = AdversarialPatch(input_shape = val_split[0][0].shape,\n",
    "                         patch_type = \"square\", # \"square\" or \"circle\"\n",
    "                         patch_position = 'centered', #'centered' or 'top_left'\n",
    "                         patch_size = 50,\n",
    "                         preprocess = [normalize],\n",
    "                         optimize_location = True,\n",
    "                         rotation_range = 45,\n",
    "                         scale_range = (0.5, 1),\n",
    "                         )"
   ]
  },
  {
   "cell_type": "code",
   "execution_count": null,
   "metadata": {},
   "outputs": [],
   "source": [
    "from visualization import show_batch\n",
    "\n",
    "x,_ = next(iter(val_loader))\n",
    "for s in range(len(x)):\n",
    "    x[s] = patch.apply_patch(x[s])\n",
    "show_batch(x[:10], transforms=transforms.Compose([normalize]))"
   ]
  },
  {
   "cell_type": "code",
   "execution_count": null,
   "metadata": {},
   "outputs": [],
   "source": [
    "adv_patch, succ_rate = patch.train(model_wrp.model, val_loader, tst_loader,\n",
    "                                   target_class = data.class_to_idx[target_class],\n",
    "                                   lr = 1.,\n",
    "                                   num_epochs = 50,\n",
    "                                   device_idx = 1,\n",
    "                                   verbose = True)"
   ]
  },
  {
   "cell_type": "code",
   "execution_count": null,
   "metadata": {},
   "outputs": [],
   "source": [
    "adv_patch = adv_patch.numpy().transpose(1,2,0)\n",
    "adv_patch = (adv_patch*255).astype(np.uint8)\n",
    "plt.imshow(adv_patch);"
   ]
  },
  {
   "cell_type": "code",
   "execution_count": null,
   "metadata": {
    "id": "P3JRjHK2z48_"
   },
   "outputs": [],
   "source": [
    "# store patch\n",
    "directory = os.path.join('data','patches')\n",
    "os.makedirs(directory, exist_ok=True)\n",
    "np.save(os.path.join(directory, f'{target_class}_{int(100*succ_rate)}.npy'), adv_patch)"
   ]
  },
  {
   "cell_type": "markdown",
   "metadata": {},
   "source": [
    "# Webcam Testing"
   ]
  },
  {
   "cell_type": "code",
   "execution_count": null,
   "metadata": {},
   "outputs": [],
   "source": [
    "import gdown\n",
    "import zipfile\n",
    "\n",
    "gdown.download(id='1S5l8Bn_oTckD5iiMSX82m9pxJp0762Qc')\n",
    "with zipfile.ZipFile('data.zip', 'r') as zip_ref:\n",
    "    zip_ref.extractall('')"
   ]
  },
  {
   "cell_type": "code",
   "execution_count": 2,
   "metadata": {},
   "outputs": [],
   "source": [
    "import numpy as np\n",
    "import os\n",
    "\n",
    "from torch_model_wrapper import TorchModelWrapper\n",
    "from run_webcam import webcam_inference\n",
    "from visualization import show_patches"
   ]
  },
  {
   "cell_type": "code",
   "execution_count": null,
   "metadata": {},
   "outputs": [],
   "source": [
    "# load trained model\n",
    "model_wrp = TorchModelWrapper(model_name='alexnet', num_classes=num_classes)\n",
    "model_wrp.load_model(os.path.join('data','models'))\n",
    "model_wrp.set_model_gradients(False)"
   ]
  },
  {
   "cell_type": "code",
   "execution_count": 22,
   "metadata": {},
   "outputs": [
    {
     "data": {
      "image/png": "[encoded data removed]",
      "text/plain": [
       "<Figure size 1000x1500 with 5 Axes>"
      ]
     },
     "metadata": {},
     "output_type": "display_data"
    }
   ],
   "source": [
    "show_patches(['book_91', 'cellphone_47', 'mouse_96', 'pencilcase_57', 'ringbinder_87'])"
   ]
  },
  {
   "cell_type": "code",
   "execution_count": null,
   "metadata": {},
   "outputs": [],
   "source": [
    "# load patch and run webcam test\n",
    "name = ['book_91','cellphone_47','mouse_96','pencilcase_57','ringbinder_87'][4]\n",
    "np_patch = np.load(os.path.join('data','patches', f\"{name}_script.npy\"))\n",
    "webcam_inference(model_wrp.model, np_patch)"
   ]
  }
 ],
 "metadata": {
  "colab": {
   "authorship_tag": "ABX9TyN9kuhj5NF7gDyq4DFMM70F",
   "provenance": []
  },
  "kernelspec": {
   "display_name": "Python 3 (ipykernel)",
   "language": "python",
   "name": "python3"
  },
  "language_info": {
   "codemirror_mode": {
    "name": "ipython",
    "version": 3
   },
   "file_extension": ".py",
   "mimetype": "text/x-python",
   "name": "python",
   "nbconvert_exporter": "python",
   "pygments_lexer": "ipython3",
   "version": "3.11.5"
  }
 },
 "nbformat": 4,
 "nbformat_minor": 4
}
