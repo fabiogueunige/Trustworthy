{
 "cells": [
  {
   "cell_type": "markdown",
   "source": [
    "## Adversarial Examples\n",
    "\n",
    "Adversarial examples, also known as evasion attacks, are intentionally-perturbed input samples aimed to mislead classification at test time. [1,2].\n",
    "\n",
    "These attacks are formulated as optimization problems that can be solved via gradient-based optimizers.\n",
    "\n",
    "Here, we will compute adversarial examples by minimizing a loss function $L$ on a target label $y_t$ (different from the true class), under manipulation constraints, as given below:\n",
    "\n",
    "$$\n",
    "\\begin{eqnarray}\n",
    "    \\mathbf x^\\star \\in {\\arg\\min}_{\\mathbf x} && L(\\mathbf x, y_t, \\theta) \\, \\\\\n",
    "    {\\rm s.t. } && \\| \\mathbf x- \\mathbf x_0\\|_2 \\leq \\varepsilon \\, , \\\\\n",
    "    && \\mathbf x_{\\rm lb} \\preceq \\mathbf x \\preceq \\mathbf x_{\\rm ub} \\, .\n",
    "\\end{eqnarray}\n",
    "$$\n",
    "\n",
    "The first constraint imposes that the adversarial perturbation will not be larger than $\\varepsilon$ (measured in $\\ell_2$ norm).\n",
    "The second constraint is a box constraint to enforce the adversarial image not to exceed the range 0-255 (or 0-1, if the input pixels are scaled).\n",
    "\n",
    "\n",
    "We solve this problem with a *projected* gradient-descent algorithm below, which iteratively projects the adversarial image on the feasible domain to ensure that the constraints remain valid.\n",
    "\n",
    "The attack is meant to manipulate the input pixels of the initial image. To this end, we will need to explicitly account for the transform/scaling performed before passing the input sample to the neural network. In particular, at each iteration, we will map the image from the pixel space onto the transformed/scaled space, update the attack point along the gradient direction in that space, project the modified image back onto the input pixel space (using an inverse-transformation function), and apply box and $\\ell_2$ constraints in the input space.\n",
    "\n",
    "\n",
    "**References**\n",
    "1.   C. Szegedy et al.,  Intriguing Properties of Neural Networks, ICLR 2014, https://arxiv.org/abs/1312.6199\n",
    "2.   B. Biggio et al., Evasion Attacks against Machine Learning at Test Time, ECML PKDD 2013, https://arxiv.org/abs/1708.06131\n",
    "\n",
    "[![Open In Colab](https://colab.research.google.com/assets/colab-badge.svg)](\n",
    "https://colab.research.google.com/github/zangobot/teaching_material/blob/HEAD/adv_challenge/adv_exercise.ipynb)"
   ],
   "metadata": {
    "collapsed": false,
    "pycharm": {
     "name": "#%% md\n"
    }
   }
  },
  {
   "cell_type": "code",
   "execution_count": null,
   "metadata": {
    "collapsed": true,
    "pycharm": {
     "name": "#%%\n"
    }
   },
   "outputs": [],
   "source": [
    "%%capture --no-stderr --no-display\n",
    "# NBVAL_IGNORE_OUTPUT\n",
    "\n",
    "try:\n",
    "    import secml\n",
    "except ImportError:\n",
    "    %pip install git+https://github.com/pralab/secml\n",
    "    %pip install foolbox"
   ]
  },
  {
   "cell_type": "markdown",
   "source": [
    "# Exercise 1\n",
    "\n",
    "This PGD implementation is flawed. Find the bug and fix it."
   ],
   "metadata": {
    "collapsed": false,
    "pycharm": {
     "name": "#%% md\n"
    }
   }
  },
  {
   "cell_type": "code",
   "execution_count": null,
   "outputs": [],
   "source": [
    "from secml.ml.classifiers.loss import CLossCrossEntropy\n",
    "from secml.data.loader import CDataLoaderMNIST\n",
    "from secml.ml import CClassifierPyTorch\n",
    "\n",
    "from mnist_model import SimpleNet\n",
    "\n",
    "net = SimpleNet().load_pretrained_mnist('mnist_net.pth')\n",
    "clf = CClassifierPyTorch(model=net, pretrained=True, input_shape=(1, 28, 28))\n",
    "digits = [0, 1, 2, 3, 4, 5, 6, 7, 8, 9]\n",
    "loader = CDataLoaderMNIST()  # load the hand-written digit dataset,\n",
    "ts = loader.load('testing', num_samples=10)  # extract 20 samples from the test set\n",
    "ts.X /= 255  # normalize data between 0 and 1\n",
    "x, y = ts.X[4, :], ts.Y[4]\n",
    "target_label = 8\n",
    "\n",
    "print(f'Original label: {y}')\n",
    "print(f'Target label: {target_label}')\n",
    "\n",
    "eps = 5\n",
    "step_size = 1\n",
    "steps = 2000\n",
    "\n",
    "loss_func = CLossCrossEntropy()\n",
    "x_adv = x.deepcopy()\n",
    "\n",
    "# we iterate multiple times to repeat the gradient descent step\n",
    "for i in range(steps):\n",
    "    scores = clf.decision_function(x_adv)\n",
    "    loss_gradient = loss_func.dloss(y_true=y, score=scores, pos_label=target_label)\n",
    "    clf_gradient = clf.grad_f_x(x_adv, target_label)\n",
    "    gradient = clf_gradient * loss_gradient\n",
    "\n",
    "    if gradient.norm() != 0:\n",
    "        gradient /= gradient.norm()\n",
    "\n",
    "    x_adv = x_adv + step_size * gradient\n",
    "    delta = x_adv - x\n",
    "    if delta.norm() > eps:\n",
    "        delta = delta / delta.norm()\n",
    "        x_adv = x + delta\n",
    "    x_adv = x_adv.clip(0, 1)\n",
    "\n",
    "scores = clf.decision_function(x_adv)\n",
    "print(f'Adv label: {scores.argmax()}')"
   ],
   "metadata": {
    "collapsed": false,
    "pycharm": {
     "name": "#%%\n"
    }
   }
  },
  {
   "cell_type": "markdown",
   "source": [
    "# Exercise 2\n",
    "\n",
    "Instantiate the provided `mnist_net2.pth` network, as done for the first one.\n",
    "Modify the attack such that PGD applies a manipulations on the input sample such that it is classified as a 2 from the first network and as a 9 from the second one."
   ],
   "metadata": {
    "collapsed": false,
    "pycharm": {
     "name": "#%% md\n"
    }
   }
  },
  {
   "cell_type": "code",
   "execution_count": null,
   "outputs": [],
   "source": [
    "# TODO"
   ],
   "metadata": {
    "collapsed": false,
    "pycharm": {
     "name": "#%%\n"
    }
   }
  }
 ],
 "metadata": {
  "kernelspec": {
   "display_name": "Python 3 (ipykernel)",
   "language": "python",
   "name": "python3"
  },
  "language_info": {
   "codemirror_mode": {
    "name": "ipython",
    "version": 3
   },
   "file_extension": ".py",
   "mimetype": "text/x-python",
   "name": "python",
   "nbconvert_exporter": "python",
   "pygments_lexer": "ipython3",
   "version": "3.9.7"
  }
 },
 "nbformat": 4,
 "nbformat_minor": 1
}